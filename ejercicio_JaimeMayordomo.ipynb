{
 "cells": [
  {
   "cell_type": "markdown",
   "metadata": {},
   "source": [
    "Escriba un programa que sume todos los números impares desde 1 hasta un número \n",
    "N dado por el usuario. El usuario debe ingresar el número \n",
    "N y el programa debe mostrar la suma de todos los números impares hasta \n",
    "N."
   ]
  },
  {
   "cell_type": "code",
   "execution_count": 8,
   "metadata": {},
   "outputs": [
    {
     "data": {
      "text/plain": [
       "16"
      ]
     },
     "execution_count": 8,
     "metadata": {},
     "output_type": "execute_result"
    }
   ],
   "source": [
    "limite = int(input(\"Introduce el número límite\"))\n",
    "lista = list(range(1,limite + 1,2))\n",
    "sum(range(1,limite +1,2))"
   ]
  },
  {
   "cell_type": "markdown",
   "metadata": {},
   "source": [
    "Escriba un programa que pida al usuario ingresar un número entero. Utilice try/except para manejar cualquier error que pueda ocurrir si el usuario ingresa algo que no sea un número entero. Si el número es par, imprima \"Es par\". Si el número es impar, imprima \"Es impar\"."
   ]
  },
  {
   "cell_type": "code",
   "execution_count": 13,
   "metadata": {},
   "outputs": [
    {
     "name": "stdout",
     "output_type": "stream",
     "text": [
      "ERROR. El valor introducido no es entero\n"
     ]
    }
   ],
   "source": [
    "try:\n",
    "    numero = int(input(\"Introduce un valor que sea un ENTERO\"))\n",
    "    if numero % 2 == 0:\n",
    "        print(\"Es par\")\n",
    "    else:\n",
    "        print(\"Es impar\")\n",
    "except:\n",
    "    print(\"ERROR. El valor introducido no es entero\")"
   ]
  },
  {
   "cell_type": "markdown",
   "metadata": {},
   "source": [
    "Escriba un programa que imprima la serie de Fibonacci hasta un número \n",
    "N dado por el usuario. Utilice try/except para validar la entrada del usuario."
   ]
  },
  {
   "cell_type": "code",
   "execution_count": 6,
   "metadata": {},
   "outputs": [
    {
     "name": "stdout",
     "output_type": "stream",
     "text": [
      "50\n",
      "[0, 1, 1, 2, 3, 5, 8, 13, 21, 34, 55]\n"
     ]
    }
   ],
   "source": [
    "try:\n",
    "    limiteFib = int(input(\"Introduce el limite de la serie de Fibonacci deseado\"))\n",
    "    print(limiteFib)\n",
    "    fibonacci = [0, 1]\n",
    "    final = False\n",
    "    while final == False:\n",
    "        next = len(fibonacci)\n",
    "        valor = fibonacci[next -1] + fibonacci[next-2]\n",
    "        fibonacci.append(valor)\n",
    "        # break\n",
    "        if valor >= limiteFib:\n",
    "            final = True\n",
    "except:\n",
    "    print(\"ERROR\")\n",
    "finally:\n",
    "    print(fibonacci)"
   ]
  },
  {
   "cell_type": "code",
   "execution_count": 19,
   "metadata": {},
   "outputs": [
    {
     "name": "stdout",
     "output_type": "stream",
     "text": [
      "0 1 1 2 3 "
     ]
    }
   ],
   "source": [
    "try:\n",
    "    limiteFib = int(input(\"Introduce el limite de la serie de Fibonacci deseado\"))\n",
    "    a, b = 0, 1\n",
    "    while a < limiteFib:\n",
    "        print(a, end = ' ')\n",
    "        a, b = b, a + b\n",
    "except:\n",
    "    print(\"ERROR\")"
   ]
  }
 ],
 "metadata": {
  "kernelspec": {
   "display_name": "Python 3",
   "language": "python",
   "name": "python3"
  },
  "language_info": {
   "codemirror_mode": {
    "name": "ipython",
    "version": 3
   },
   "file_extension": ".py",
   "mimetype": "text/x-python",
   "name": "python",
   "nbconvert_exporter": "python",
   "pygments_lexer": "ipython3",
   "version": "3.11.5"
  },
  "orig_nbformat": 4
 },
 "nbformat": 4,
 "nbformat_minor": 2
}
